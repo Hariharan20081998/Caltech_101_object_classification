{
 "cells": [
  {
   "cell_type": "markdown",
   "metadata": {},
   "source": [
    "# Caltech101 dataset object classification using pre-trained CNNs\n",
    "\n",
    "This code is inspired/copied by the repository https://github.com/fchollet/deep-learning-with-python-notebooks that has the code from book \"Deep Learning with Python\".\n",
    "\n",
    "More specifically, I am running code from the notebooks:\n",
    "https://github.com/fchollet/deep-learning-with-python-notebooks/blob/master/5.2-using-convnets-with-small-datasets.ipynb\n",
    "https://github.com/fchollet/deep-learning-with-python-notebooks/blob/master/5.3-using-a-pretrained-convnet.ipynb\n",
    "\n",
    "adapted to the Caltech101 dataset. Please refer to the original Jupyter Notebooks above for further info."
   ]
  },
  {
   "cell_type": "code",
   "execution_count": 1,
   "metadata": {},
   "outputs": [
    {
     "name": "stderr",
     "output_type": "stream",
     "text": [
      "/home/tbontz2s/anaconda3_env/lib/python3.6/site-packages/h5py/__init__.py:36: FutureWarning: Conversion of the second argument of issubdtype from `float` to `np.floating` is deprecated. In future, it will be treated as `np.float64 == np.dtype(float).type`.\n",
      "  from ._conv import register_converters as _register_converters\n",
      "Using TensorFlow backend.\n"
     ]
    },
    {
     "name": "stdout",
     "output_type": "stream",
     "text": [
      "keras version:  2.2.2\n",
      "tensoflow version:  1.9.0\n"
     ]
    }
   ],
   "source": [
    "import os\n",
    "\n",
    "os.environ[\"CUDA_DEVICE_ORDER\"]=\"PCI_BUS_ID\"\n",
    "# The GPU id to use, usually either \"0\" or \"1\"\n",
    "os.environ[\"CUDA_VISIBLE_DEVICES\"]=\"0\" \n",
    "\n",
    "import numpy as np\n",
    "import cv2\n",
    "from matplotlib import pyplot as plt\n",
    "\n",
    "import keras\n",
    "print(\"keras version: \", keras.__version__)\n",
    "\n",
    "import tensorflow as tf\n",
    "print(\"tensoflow version: \", tf.__version__)"
   ]
  },
  {
   "cell_type": "code",
   "execution_count": 2,
   "metadata": {},
   "outputs": [],
   "source": [
    "# istructions from: https://michaelblogscode.wordpress.com/2017/10/10/reducing-and-profiling-gpu-memory-usage-in-keras-with-tensorflow-backend/\n",
    "\n",
    "# TensorFlow wizardry\n",
    "config = tf.ConfigProto()\n",
    " \n",
    "# Don't pre-allocate memory; allocate as-needed\n",
    "config.gpu_options.allow_growth = True\n",
    " \n",
    "# Only allow a total of half the GPU memory to be allocated\n",
    "config.gpu_options.per_process_gpu_memory_fraction = 0.9\n",
    " \n",
    "# Create a session with the above options specified.\n",
    "keras.backend.tensorflow_backend.set_session(tf.Session(config=config))"
   ]
  },
  {
   "cell_type": "markdown",
   "metadata": {},
   "source": [
    "# Using a pre-trained convnet"
   ]
  },
  {
   "cell_type": "markdown",
   "metadata": {},
   "source": [
    "# Feature extractions"
   ]
  },
  {
   "cell_type": "code",
   "execution_count": 3,
   "metadata": {},
   "outputs": [],
   "source": [
    "from keras.applications import ResNet50, VGG16\n",
    "\n",
    "#conv_base = ResNet50(weights='imagenet',\n",
    "#                  include_top=False,\n",
    "#                  input_shape=(197, 197, 3))\n",
    "\n",
    "conv_base = VGG16(weights='imagenet',\n",
    "                  include_top=False,\n",
    "                  input_shape=(150, 150, 3))"
   ]
  },
  {
   "cell_type": "code",
   "execution_count": 4,
   "metadata": {
    "scrolled": true
   },
   "outputs": [
    {
     "name": "stdout",
     "output_type": "stream",
     "text": [
      "_________________________________________________________________\n",
      "Layer (type)                 Output Shape              Param #   \n",
      "=================================================================\n",
      "input_1 (InputLayer)         (None, 150, 150, 3)       0         \n",
      "_________________________________________________________________\n",
      "block1_conv1 (Conv2D)        (None, 150, 150, 64)      1792      \n",
      "_________________________________________________________________\n",
      "block1_conv2 (Conv2D)        (None, 150, 150, 64)      36928     \n",
      "_________________________________________________________________\n",
      "block1_pool (MaxPooling2D)   (None, 75, 75, 64)        0         \n",
      "_________________________________________________________________\n",
      "block2_conv1 (Conv2D)        (None, 75, 75, 128)       73856     \n",
      "_________________________________________________________________\n",
      "block2_conv2 (Conv2D)        (None, 75, 75, 128)       147584    \n",
      "_________________________________________________________________\n",
      "block2_pool (MaxPooling2D)   (None, 37, 37, 128)       0         \n",
      "_________________________________________________________________\n",
      "block3_conv1 (Conv2D)        (None, 37, 37, 256)       295168    \n",
      "_________________________________________________________________\n",
      "block3_conv2 (Conv2D)        (None, 37, 37, 256)       590080    \n",
      "_________________________________________________________________\n",
      "block3_conv3 (Conv2D)        (None, 37, 37, 256)       590080    \n",
      "_________________________________________________________________\n",
      "block3_pool (MaxPooling2D)   (None, 18, 18, 256)       0         \n",
      "_________________________________________________________________\n",
      "block4_conv1 (Conv2D)        (None, 18, 18, 512)       1180160   \n",
      "_________________________________________________________________\n",
      "block4_conv2 (Conv2D)        (None, 18, 18, 512)       2359808   \n",
      "_________________________________________________________________\n",
      "block4_conv3 (Conv2D)        (None, 18, 18, 512)       2359808   \n",
      "_________________________________________________________________\n",
      "block4_pool (MaxPooling2D)   (None, 9, 9, 512)         0         \n",
      "_________________________________________________________________\n",
      "block5_conv1 (Conv2D)        (None, 9, 9, 512)         2359808   \n",
      "_________________________________________________________________\n",
      "block5_conv2 (Conv2D)        (None, 9, 9, 512)         2359808   \n",
      "_________________________________________________________________\n",
      "block5_conv3 (Conv2D)        (None, 9, 9, 512)         2359808   \n",
      "_________________________________________________________________\n",
      "block5_pool (MaxPooling2D)   (None, 4, 4, 512)         0         \n",
      "=================================================================\n",
      "Total params: 14,714,688\n",
      "Trainable params: 14,714,688\n",
      "Non-trainable params: 0\n",
      "_________________________________________________________________\n"
     ]
    }
   ],
   "source": [
    "conv_base.summary()"
   ]
  },
  {
   "cell_type": "markdown",
   "metadata": {},
   "source": [
    "Final layer output is <s>(7, 7, 2048)</s> / (4,4,512)"
   ]
  },
  {
   "cell_type": "code",
   "execution_count": 5,
   "metadata": {},
   "outputs": [
    {
     "name": "stdout",
     "output_type": "stream",
     "text": [
      "Found 6353 images belonging to 102 classes.\n",
      "Found 1788 images belonging to 102 classes.\n",
      "Found 1003 images belonging to 102 classes.\n"
     ]
    }
   ],
   "source": [
    "\n",
    "from keras.preprocessing.image import ImageDataGenerator\n",
    "\n",
    "base_dir = './split_dataset'\n",
    "\n",
    "train_dir = os.path.join(base_dir, 'train')\n",
    "validation_dir = os.path.join(base_dir, 'validation')\n",
    "test_dir = os.path.join(base_dir, 'test')\n",
    "\n",
    "datagen = ImageDataGenerator(rescale=1./255)\n",
    "batch_size = 20\n",
    "\n",
    "def extract_features(directory, sample_count):\n",
    "    features = np.zeros(shape=(sample_count, 4, 4, 512))\n",
    "    labels = np.zeros(shape=(sample_count, 102))\n",
    "    generator = datagen.flow_from_directory(\n",
    "        directory,\n",
    "        target_size=(150, 150),\n",
    "        batch_size=batch_size,\n",
    "        class_mode='categorical')\n",
    "    i = 0\n",
    "    for inputs_batch, labels_batch in generator:\n",
    "        features_batch = conv_base.predict(inputs_batch)\n",
    "        features[i * batch_size : (i + 1) * batch_size] = features_batch\n",
    "        labels[i * batch_size : (i + 1) * batch_size] = labels_batch\n",
    "        i += 1\n",
    "        if i * batch_size >= sample_count:\n",
    "            # Note that since generators yield data indefinitely in a loop,\n",
    "            # we must `break` after every image has been seen once.\n",
    "            break\n",
    "    return features, labels\n",
    "\n",
    "train_features, train_labels = extract_features(train_dir, 6353)\n",
    "validation_features, validation_labels = extract_features(validation_dir, 1788)\n",
    "test_features, test_labels = extract_features(test_dir, 1003)"
   ]
  },
  {
   "cell_type": "markdown",
   "metadata": {},
   "source": [
    "We used an existing VGG16 network to extract features from the images. The extracted features are currently of shape <s>(samples, 7, 7, 2048)</s>(samples, 4, 4, 512). We will feed them to a densely-connected classifier, so first we must flatten them to <s>(samples, 100352)</s>(samples, 8192):"
   ]
  },
  {
   "cell_type": "code",
   "execution_count": 6,
   "metadata": {},
   "outputs": [],
   "source": [
    "train_features = np.reshape(train_features, (6353, 4 * 4 * 512))\n",
    "validation_features = np.reshape(validation_features, (1788, 4 * 4 * 512))\n",
    "test_features = np.reshape(test_features, (1003, 4 * 4 * 512))"
   ]
  },
  {
   "cell_type": "markdown",
   "metadata": {},
   "source": [
    "Train a small network based on the extracted features."
   ]
  },
  {
   "cell_type": "code",
   "execution_count": 7,
   "metadata": {
    "scrolled": false
   },
   "outputs": [
    {
     "name": "stdout",
     "output_type": "stream",
     "text": [
      "Train on 6353 samples, validate on 1788 samples\n",
      "Epoch 1/30\n",
      "6353/6353 [==============================] - 3s 451us/step - loss: 2.2479 - acc: 0.5089 - val_loss: 1.1954 - val_acc: 0.7120\n",
      "Epoch 2/30\n",
      "6353/6353 [==============================] - 2s 350us/step - loss: 1.1233 - acc: 0.7053 - val_loss: 0.9192 - val_acc: 0.7696\n",
      "Epoch 3/30\n",
      "6353/6353 [==============================] - 2s 354us/step - loss: 0.7966 - acc: 0.7812 - val_loss: 0.7723 - val_acc: 0.7942\n",
      "Epoch 4/30\n",
      "6353/6353 [==============================] - 2s 352us/step - loss: 0.5729 - acc: 0.8393 - val_loss: 0.7396 - val_acc: 0.8065\n",
      "Epoch 5/30\n",
      "6353/6353 [==============================] - 2s 357us/step - loss: 0.4622 - acc: 0.8615 - val_loss: 0.7426 - val_acc: 0.8076\n",
      "Epoch 6/30\n",
      "6353/6353 [==============================] - 2s 350us/step - loss: 0.4001 - acc: 0.8782 - val_loss: 0.7883 - val_acc: 0.7947\n",
      "Epoch 7/30\n",
      "6353/6353 [==============================] - 2s 353us/step - loss: 0.3404 - acc: 0.8966 - val_loss: 0.7218 - val_acc: 0.8076\n",
      "Epoch 8/30\n",
      "6353/6353 [==============================] - 2s 352us/step - loss: 0.3022 - acc: 0.9078 - val_loss: 0.7790 - val_acc: 0.8048\n",
      "Epoch 9/30\n",
      "6353/6353 [==============================] - 2s 369us/step - loss: 0.2817 - acc: 0.9166 - val_loss: 0.7709 - val_acc: 0.8087\n",
      "Epoch 10/30\n",
      "6353/6353 [==============================] - 2s 383us/step - loss: 0.2364 - acc: 0.9246 - val_loss: 0.8194 - val_acc: 0.8065\n",
      "Epoch 11/30\n",
      "6353/6353 [==============================] - 2s 352us/step - loss: 0.2207 - acc: 0.9356 - val_loss: 0.8273 - val_acc: 0.7992\n",
      "Epoch 12/30\n",
      "6353/6353 [==============================] - 2s 354us/step - loss: 0.2267 - acc: 0.9318 - val_loss: 0.7862 - val_acc: 0.8076\n",
      "Epoch 13/30\n",
      "6353/6353 [==============================] - 2s 352us/step - loss: 0.2100 - acc: 0.9350 - val_loss: 0.7881 - val_acc: 0.8132\n",
      "Epoch 14/30\n",
      "6353/6353 [==============================] - 2s 353us/step - loss: 0.2013 - acc: 0.9342 - val_loss: 0.8424 - val_acc: 0.8171\n",
      "Epoch 15/30\n",
      "6353/6353 [==============================] - 2s 351us/step - loss: 0.2081 - acc: 0.9326 - val_loss: 0.8368 - val_acc: 0.8160\n",
      "Epoch 16/30\n",
      "6353/6353 [==============================] - 2s 351us/step - loss: 0.1948 - acc: 0.9402 - val_loss: 0.8343 - val_acc: 0.8098\n",
      "Epoch 17/30\n",
      "6353/6353 [==============================] - 2s 352us/step - loss: 0.1883 - acc: 0.9419 - val_loss: 0.8597 - val_acc: 0.8249\n",
      "Epoch 18/30\n",
      "6353/6353 [==============================] - 2s 353us/step - loss: 0.1952 - acc: 0.9402 - val_loss: 0.8958 - val_acc: 0.8160\n",
      "Epoch 19/30\n",
      "6353/6353 [==============================] - 2s 355us/step - loss: 0.1814 - acc: 0.9436 - val_loss: 0.8722 - val_acc: 0.8182\n",
      "Epoch 20/30\n",
      "6353/6353 [==============================] - 2s 352us/step - loss: 0.1538 - acc: 0.9504 - val_loss: 0.8183 - val_acc: 0.8238\n",
      "Epoch 21/30\n",
      "6353/6353 [==============================] - 2s 354us/step - loss: 0.1763 - acc: 0.9444 - val_loss: 0.8707 - val_acc: 0.8171\n",
      "Epoch 22/30\n",
      "6353/6353 [==============================] - 2s 352us/step - loss: 0.1414 - acc: 0.9555 - val_loss: 1.0498 - val_acc: 0.8227\n",
      "Epoch 23/30\n",
      "6353/6353 [==============================] - 2s 352us/step - loss: 0.1506 - acc: 0.9536 - val_loss: 1.0750 - val_acc: 0.8065\n",
      "Epoch 24/30\n",
      "6353/6353 [==============================] - 2s 352us/step - loss: 0.1883 - acc: 0.9463 - val_loss: 0.9116 - val_acc: 0.8154\n",
      "Epoch 25/30\n",
      "6353/6353 [==============================] - 2s 354us/step - loss: 0.1346 - acc: 0.9555 - val_loss: 1.0112 - val_acc: 0.8205\n",
      "Epoch 26/30\n",
      "6353/6353 [==============================] - 2s 354us/step - loss: 0.1581 - acc: 0.9515 - val_loss: 0.9103 - val_acc: 0.8277\n",
      "Epoch 27/30\n",
      "6353/6353 [==============================] - 2s 354us/step - loss: 0.1521 - acc: 0.9570 - val_loss: 1.0237 - val_acc: 0.8070\n",
      "Epoch 28/30\n",
      "6353/6353 [==============================] - 2s 351us/step - loss: 0.1648 - acc: 0.9484 - val_loss: 1.0223 - val_acc: 0.8059\n",
      "Epoch 29/30\n",
      "6353/6353 [==============================] - 2s 351us/step - loss: 0.1283 - acc: 0.9625 - val_loss: 0.9169 - val_acc: 0.8283\n",
      "Epoch 30/30\n",
      "6353/6353 [==============================] - 2s 352us/step - loss: 0.1156 - acc: 0.9643 - val_loss: 0.9944 - val_acc: 0.8289\n"
     ]
    }
   ],
   "source": [
    "from keras import models\n",
    "from keras import layers\n",
    "from keras import optimizers\n",
    "\n",
    "model = models.Sequential()\n",
    "model.add(layers.Dense(512, activation='relu', input_dim=4 * 4 * 512))\n",
    "model.add(layers.Dropout(0.5))\n",
    "model.add(layers.Dense(102, activation='softmax'))\n",
    "\n",
    "model.compile(optimizer=optimizers.Adam(),\n",
    "              loss='categorical_crossentropy',\n",
    "              metrics=['acc'])\n",
    "\n",
    "history = model.fit(train_features, train_labels,\n",
    "                    epochs=30,\n",
    "                    batch_size=20,\n",
    "                    validation_data=(validation_features, validation_labels))"
   ]
  },
  {
   "cell_type": "code",
   "execution_count": 8,
   "metadata": {},
   "outputs": [
    {
     "data": {
      "image/png": "[encoded data removed]",
      "text/plain": [
       "<Figure size 432x288 with 1 Axes>"
      ]
     },
     "metadata": {},
     "output_type": "display_data"
    },
    {
     "data": {
      "image/png": "[encoded data removed]",
      "text/plain": [
       "<Figure size 432x288 with 1 Axes>"
      ]
     },
     "metadata": {},
     "output_type": "display_data"
    }
   ],
   "source": [
    "acc = history.history['acc']\n",
    "val_acc = history.history['val_acc']\n",
    "loss = history.history['loss']\n",
    "val_loss = history.history['val_loss']\n",
    "\n",
    "epochs = range(len(acc))\n",
    "\n",
    "plt.plot(epochs, acc, 'bo', label='Training acc')\n",
    "plt.plot(epochs, val_acc, 'b', label='Validation acc')\n",
    "plt.title('Training and validation accuracy')\n",
    "plt.legend()\n",
    "\n",
    "plt.figure()\n",
    "\n",
    "plt.plot(epochs, loss, 'bo', label='Training loss')\n",
    "plt.plot(epochs, val_loss, 'b', label='Validation loss')\n",
    "plt.title('Training and validation loss')\n",
    "plt.legend()\n",
    "\n",
    "plt.show()"
   ]
  },
  {
   "cell_type": "code",
   "execution_count": 9,
   "metadata": {},
   "outputs": [],
   "source": [
    "model.save('caltech101_pretrained_1.h5')"
   ]
  },
  {
   "cell_type": "markdown",
   "metadata": {},
   "source": [
    "Validation accuracy is better but the plots shows that there is also overfitting alsmost immediately. Let's use the other more expensive method where we incorporate and freeze the VGG16 in the model and train only part of the network on top."
   ]
  },
  {
   "cell_type": "code",
   "execution_count": 27,
   "metadata": {},
   "outputs": [],
   "source": [
    "from keras import models\n",
    "from keras import layers\n",
    "\n",
    "model = models.Sequential()\n",
    "model.add(conv_base)\n",
    "model.add(layers.Flatten())\n",
    "model.add(layers.Dense(512, activation='relu'))\n",
    "model.add(layers.Dense(102, activation='softmax'))"
   ]
  },
  {
   "cell_type": "code",
   "execution_count": 28,
   "metadata": {},
   "outputs": [
    {
     "name": "stdout",
     "output_type": "stream",
     "text": [
      "_________________________________________________________________\n",
      "Layer (type)                 Output Shape              Param #   \n",
      "=================================================================\n",
      "vgg16 (Model)                (None, 4, 4, 512)         14714688  \n",
      "_________________________________________________________________\n",
      "flatten_4 (Flatten)          (None, 8192)              0         \n",
      "_________________________________________________________________\n",
      "dense_9 (Dense)              (None, 512)               4194816   \n",
      "_________________________________________________________________\n",
      "dense_10 (Dense)             (None, 102)               52326     \n",
      "=================================================================\n",
      "Total params: 18,961,830\n",
      "Trainable params: 4,247,142\n",
      "Non-trainable params: 14,714,688\n",
      "_________________________________________________________________\n"
     ]
    }
   ],
   "source": [
    "model.summary()"
   ]
  },
  {
   "cell_type": "code",
   "execution_count": 29,
   "metadata": {},
   "outputs": [
    {
     "name": "stdout",
     "output_type": "stream",
     "text": [
      "This is the number of trainable weights before freezing the conv base: 4\n"
     ]
    }
   ],
   "source": [
    "print('This is the number of trainable weights '\n",
    "      'before freezing the conv base:', len(model.trainable_weights))"
   ]
  },
  {
   "cell_type": "code",
   "execution_count": 30,
   "metadata": {},
   "outputs": [],
   "source": [
    "conv_base.trainable = False"
   ]
  },
  {
   "cell_type": "code",
   "execution_count": 31,
   "metadata": {},
   "outputs": [
    {
     "name": "stdout",
     "output_type": "stream",
     "text": [
      "This is the number of trainable weights after freezing the conv base: 4\n"
     ]
    }
   ],
   "source": [
    "print('This is the number of trainable weights '\n",
    "      'after freezing the conv base:', len(model.trainable_weights))"
   ]
  },
  {
   "cell_type": "code",
   "execution_count": 32,
   "metadata": {
    "scrolled": true
   },
   "outputs": [
    {
     "name": "stdout",
     "output_type": "stream",
     "text": [
      "Found 6353 images belonging to 102 classes.\n",
      "Found 1788 images belonging to 102 classes.\n",
      "Epoch 1/30\n",
      " - 59s - loss: 2.1893 - acc: 0.4935 - val_loss: 1.1961 - val_acc: 0.6935\n",
      "Epoch 2/30\n",
      " - 58s - loss: 1.2862 - acc: 0.6669 - val_loss: 0.9898 - val_acc: 0.7315\n",
      "Epoch 3/30\n",
      " - 58s - loss: 1.0201 - acc: 0.7228 - val_loss: 1.0427 - val_acc: 0.7226\n",
      "Epoch 4/30\n",
      " - 59s - loss: 0.9060 - acc: 0.7489 - val_loss: 0.9329 - val_acc: 0.7556\n",
      "Epoch 5/30\n",
      " - 57s - loss: 0.8173 - acc: 0.7678 - val_loss: 0.8910 - val_acc: 0.7735\n",
      "Epoch 6/30\n",
      " - 57s - loss: 0.7550 - acc: 0.7865 - val_loss: 0.8807 - val_acc: 0.7701\n",
      "Epoch 7/30\n",
      " - 58s - loss: 0.7221 - acc: 0.7880 - val_loss: 0.8923 - val_acc: 0.7701\n",
      "Epoch 8/30\n",
      " - 59s - loss: 0.6732 - acc: 0.8066 - val_loss: 0.9278 - val_acc: 0.7645\n",
      "Epoch 9/30\n",
      " - 57s - loss: 0.6297 - acc: 0.8171 - val_loss: 0.8891 - val_acc: 0.7836\n",
      "Epoch 10/30\n",
      " - 57s - loss: 0.6336 - acc: 0.8156 - val_loss: 0.9020 - val_acc: 0.7763\n",
      "Epoch 11/30\n",
      " - 58s - loss: 0.5979 - acc: 0.8270 - val_loss: 0.8809 - val_acc: 0.7858\n",
      "Epoch 12/30\n",
      " - 59s - loss: 0.5826 - acc: 0.8334 - val_loss: 0.9546 - val_acc: 0.7852\n",
      "Epoch 13/30\n",
      " - 57s - loss: 0.5215 - acc: 0.8458 - val_loss: 1.0256 - val_acc: 0.7897\n",
      "Epoch 14/30\n",
      " - 57s - loss: 0.5583 - acc: 0.8341 - val_loss: 0.9540 - val_acc: 0.7858\n",
      "Epoch 15/30\n",
      " - 59s - loss: 0.5282 - acc: 0.8442 - val_loss: 0.9562 - val_acc: 0.7847\n",
      "Epoch 16/30\n",
      " - 57s - loss: 0.5106 - acc: 0.8507 - val_loss: 0.9473 - val_acc: 0.7891\n",
      "Epoch 17/30\n",
      " - 57s - loss: 0.5086 - acc: 0.8518 - val_loss: 0.9835 - val_acc: 0.7768\n",
      "Epoch 18/30\n",
      " - 58s - loss: 0.4747 - acc: 0.8569 - val_loss: 1.0323 - val_acc: 0.7774\n",
      "Epoch 19/30\n",
      " - 57s - loss: 0.4906 - acc: 0.8544 - val_loss: 0.9837 - val_acc: 0.8009\n",
      "Epoch 20/30\n",
      " - 57s - loss: 0.4421 - acc: 0.8654 - val_loss: 1.0548 - val_acc: 0.7830\n",
      "Epoch 21/30\n",
      " - 57s - loss: 0.4440 - acc: 0.8670 - val_loss: 1.0648 - val_acc: 0.7852\n",
      "Epoch 22/30\n",
      " - 58s - loss: 0.4368 - acc: 0.8706 - val_loss: 1.0698 - val_acc: 0.7880\n",
      "Epoch 23/30\n",
      " - 57s - loss: 0.4479 - acc: 0.8674 - val_loss: 1.0482 - val_acc: 0.7864\n",
      "Epoch 24/30\n",
      " - 57s - loss: 0.4095 - acc: 0.8799 - val_loss: 1.1437 - val_acc: 0.7796\n",
      "Epoch 25/30\n",
      " - 58s - loss: 0.4261 - acc: 0.8720 - val_loss: 1.1055 - val_acc: 0.7729\n",
      "Epoch 26/30\n",
      " - 60s - loss: 0.4085 - acc: 0.8841 - val_loss: 1.0811 - val_acc: 0.7953\n",
      "Epoch 27/30\n",
      " - 60s - loss: 0.3964 - acc: 0.8854 - val_loss: 1.0986 - val_acc: 0.7841\n",
      "Epoch 28/30\n",
      " - 60s - loss: 0.4072 - acc: 0.8810 - val_loss: 1.1243 - val_acc: 0.7931\n",
      "Epoch 29/30\n",
      " - 57s - loss: 0.4025 - acc: 0.8803 - val_loss: 1.1147 - val_acc: 0.7813\n",
      "Epoch 30/30\n",
      " - 57s - loss: 0.3832 - acc: 0.8866 - val_loss: 1.1490 - val_acc: 0.7864\n"
     ]
    }
   ],
   "source": [
    "from keras.preprocessing.image import ImageDataGenerator\n",
    "\n",
    "train_datagen = ImageDataGenerator(\n",
    "      rescale=1./255,\n",
    "      rotation_range=40,\n",
    "      width_shift_range=0.2,\n",
    "      height_shift_range=0.2,\n",
    "      shear_range=0.2,\n",
    "      zoom_range=0.2,\n",
    "      horizontal_flip=True,\n",
    "      fill_mode='nearest')\n",
    "\n",
    "# Note that the validation data should not be augmented!\n",
    "test_datagen = ImageDataGenerator(rescale=1./255)\n",
    "\n",
    "train_generator = train_datagen.flow_from_directory(\n",
    "        # This is the target directory\n",
    "        train_dir,\n",
    "        # All images will be resized to 150x150\n",
    "        target_size=(150, 150),\n",
    "        batch_size=20,\n",
    "        # Since we use binary_crossentropy loss, we need binary labels\n",
    "        class_mode='categorical')\n",
    "\n",
    "validation_generator = test_datagen.flow_from_directory(\n",
    "        validation_dir,\n",
    "        target_size=(150, 150),\n",
    "        batch_size=20,\n",
    "        class_mode='categorical')\n",
    "\n",
    "model.compile(loss='categorical_crossentropy',\n",
    "              optimizer=optimizers.Adam(),\n",
    "              metrics=['acc'])\n",
    "\n",
    "history = model.fit_generator(\n",
    "      train_generator,\n",
    "      steps_per_epoch=400,\n",
    "      epochs=30,\n",
    "      validation_data=validation_generator,\n",
    "      validation_steps=80,\n",
    "      verbose=2)"
   ]
  },
  {
   "cell_type": "code",
   "execution_count": 33,
   "metadata": {},
   "outputs": [],
   "source": [
    "model.save('caltech101_3.h5')"
   ]
  },
  {
   "cell_type": "code",
   "execution_count": 34,
   "metadata": {},
   "outputs": [
    {
     "data": {
      "image/png": "[encoded data removed]",
      "text/plain": [
       "<Figure size 432x288 with 1 Axes>"
      ]
     },
     "metadata": {},
     "output_type": "display_data"
    },
    {
     "data": {
      "image/png": "[encoded data removed]",
      "text/plain": [
       "<Figure size 432x288 with 1 Axes>"
      ]
     },
     "metadata": {},
     "output_type": "display_data"
    }
   ],
   "source": [
    "acc = history.history['acc']\n",
    "val_acc = history.history['val_acc']\n",
    "loss = history.history['loss']\n",
    "val_loss = history.history['val_loss']\n",
    "\n",
    "epochs = range(len(acc))\n",
    "\n",
    "plt.plot(epochs, acc, 'bo', label='Training acc')\n",
    "plt.plot(epochs, val_acc, 'b', label='Validation acc')\n",
    "plt.title('Training and validation accuracy')\n",
    "plt.legend()\n",
    "\n",
    "plt.figure()\n",
    "\n",
    "plt.plot(epochs, loss, 'bo', label='Training loss')\n",
    "plt.plot(epochs, val_loss, 'b', label='Validation loss')\n",
    "plt.title('Training and validation loss')\n",
    "plt.legend()\n",
    "\n",
    "plt.show()"
   ]
  },
  {
   "cell_type": "markdown",
   "metadata": {},
   "source": [
    "Almost 77% accuracy. But there is still overfitting."
   ]
  },
  {
   "cell_type": "markdown",
   "metadata": {},
   "source": [
    "# Fine-tuning\n",
    "\n",
    "We got 77% accuracy above. Let's try with fine-tuning."
   ]
  },
  {
   "cell_type": "code",
   "execution_count": 35,
   "metadata": {},
   "outputs": [
    {
     "name": "stdout",
     "output_type": "stream",
     "text": [
      "_________________________________________________________________\n",
      "Layer (type)                 Output Shape              Param #   \n",
      "=================================================================\n",
      "input_1 (InputLayer)         (None, 150, 150, 3)       0         \n",
      "_________________________________________________________________\n",
      "block1_conv1 (Conv2D)        (None, 150, 150, 64)      1792      \n",
      "_________________________________________________________________\n",
      "block1_conv2 (Conv2D)        (None, 150, 150, 64)      36928     \n",
      "_________________________________________________________________\n",
      "block1_pool (MaxPooling2D)   (None, 75, 75, 64)        0         \n",
      "_________________________________________________________________\n",
      "block2_conv1 (Conv2D)        (None, 75, 75, 128)       73856     \n",
      "_________________________________________________________________\n",
      "block2_conv2 (Conv2D)        (None, 75, 75, 128)       147584    \n",
      "_________________________________________________________________\n",
      "block2_pool (MaxPooling2D)   (None, 37, 37, 128)       0         \n",
      "_________________________________________________________________\n",
      "block3_conv1 (Conv2D)        (None, 37, 37, 256)       295168    \n",
      "_________________________________________________________________\n",
      "block3_conv2 (Conv2D)        (None, 37, 37, 256)       590080    \n",
      "_________________________________________________________________\n",
      "block3_conv3 (Conv2D)        (None, 37, 37, 256)       590080    \n",
      "_________________________________________________________________\n",
      "block3_pool (MaxPooling2D)   (None, 18, 18, 256)       0         \n",
      "_________________________________________________________________\n",
      "block4_conv1 (Conv2D)        (None, 18, 18, 512)       1180160   \n",
      "_________________________________________________________________\n",
      "block4_conv2 (Conv2D)        (None, 18, 18, 512)       2359808   \n",
      "_________________________________________________________________\n",
      "block4_conv3 (Conv2D)        (None, 18, 18, 512)       2359808   \n",
      "_________________________________________________________________\n",
      "block4_pool (MaxPooling2D)   (None, 9, 9, 512)         0         \n",
      "_________________________________________________________________\n",
      "block5_conv1 (Conv2D)        (None, 9, 9, 512)         2359808   \n",
      "_________________________________________________________________\n",
      "block5_conv2 (Conv2D)        (None, 9, 9, 512)         2359808   \n",
      "_________________________________________________________________\n",
      "block5_conv3 (Conv2D)        (None, 9, 9, 512)         2359808   \n",
      "_________________________________________________________________\n",
      "block5_pool (MaxPooling2D)   (None, 4, 4, 512)         0         \n",
      "=================================================================\n",
      "Total params: 14,714,688\n",
      "Trainable params: 0\n",
      "Non-trainable params: 14,714,688\n",
      "_________________________________________________________________\n"
     ]
    }
   ],
   "source": [
    "conv_base.summary()"
   ]
  },
  {
   "cell_type": "code",
   "execution_count": 36,
   "metadata": {},
   "outputs": [],
   "source": [
    "conv_base.trainable = True\n",
    "\n",
    "set_trainable = False\n",
    "for layer in conv_base.layers:\n",
    "    if layer.name == 'block5_conv1':\n",
    "        set_trainable = True\n",
    "    if set_trainable:\n",
    "        layer.trainable = True\n",
    "    else:\n",
    "        layer.trainable = False"
   ]
  },
  {
   "cell_type": "code",
   "execution_count": 38,
   "metadata": {},
   "outputs": [
    {
     "name": "stdout",
     "output_type": "stream",
     "text": [
      "Epoch 1/30\n",
      "400/400 [==============================] - 61s 152ms/step - loss: 0.1910 - acc: 0.9410 - val_loss: 1.1043 - val_acc: 0.7975\n",
      "Epoch 2/30\n",
      "400/400 [==============================] - 59s 147ms/step - loss: 0.1885 - acc: 0.9425 - val_loss: 1.0200 - val_acc: 0.8015\n",
      "Epoch 3/30\n",
      "400/400 [==============================] - 58s 145ms/step - loss: 0.1725 - acc: 0.9461 - val_loss: 1.0143 - val_acc: 0.8076\n",
      "Epoch 4/30\n",
      "400/400 [==============================] - 58s 144ms/step - loss: 0.1663 - acc: 0.9493 - val_loss: 1.0324 - val_acc: 0.8132\n",
      "Epoch 5/30\n",
      "400/400 [==============================] - 59s 148ms/step - loss: 0.1511 - acc: 0.9537 - val_loss: 1.0034 - val_acc: 0.8110\n",
      "Epoch 6/30\n",
      "400/400 [==============================] - 59s 147ms/step - loss: 0.1426 - acc: 0.9559 - val_loss: 1.0440 - val_acc: 0.8132\n",
      "Epoch 7/30\n",
      "400/400 [==============================] - 58s 145ms/step - loss: 0.1321 - acc: 0.9569 - val_loss: 1.0090 - val_acc: 0.8194\n",
      "Epoch 8/30\n",
      "400/400 [==============================] - 58s 145ms/step - loss: 0.1333 - acc: 0.9552 - val_loss: 1.0289 - val_acc: 0.8188\n",
      "Epoch 9/30\n",
      "400/400 [==============================] - 58s 146ms/step - loss: 0.1258 - acc: 0.9594 - val_loss: 1.0241 - val_acc: 0.8194\n",
      "Epoch 10/30\n",
      "400/400 [==============================] - 60s 149ms/step - loss: 0.1150 - acc: 0.9667 - val_loss: 1.0790 - val_acc: 0.8065\n",
      "Epoch 11/30\n",
      "400/400 [==============================] - 58s 144ms/step - loss: 0.1104 - acc: 0.9668 - val_loss: 1.1184 - val_acc: 0.8143\n",
      "Epoch 12/30\n",
      "400/400 [==============================] - 58s 145ms/step - loss: 0.1104 - acc: 0.9643 - val_loss: 1.0621 - val_acc: 0.8188\n",
      "Epoch 13/30\n",
      "400/400 [==============================] - 58s 146ms/step - loss: 0.1047 - acc: 0.9666 - val_loss: 1.0776 - val_acc: 0.8138\n",
      "Epoch 14/30\n",
      "400/400 [==============================] - 59s 147ms/step - loss: 0.0954 - acc: 0.9711 - val_loss: 1.0424 - val_acc: 0.8244\n",
      "Epoch 15/30\n",
      "400/400 [==============================] - 59s 146ms/step - loss: 0.1024 - acc: 0.9701 - val_loss: 1.0739 - val_acc: 0.8210\n",
      "Epoch 16/30\n",
      "400/400 [==============================] - 58s 146ms/step - loss: 0.0897 - acc: 0.9707 - val_loss: 1.0444 - val_acc: 0.8300\n",
      "Epoch 17/30\n",
      "400/400 [==============================] - 58s 146ms/step - loss: 0.0912 - acc: 0.9710 - val_loss: 1.0915 - val_acc: 0.8188\n",
      "Epoch 18/30\n",
      "400/400 [==============================] - 58s 145ms/step - loss: 0.0879 - acc: 0.9698 - val_loss: 1.0457 - val_acc: 0.8221\n",
      "Epoch 19/30\n",
      "400/400 [==============================] - 58s 146ms/step - loss: 0.0761 - acc: 0.9777 - val_loss: 1.0533 - val_acc: 0.8277\n",
      "Epoch 20/30\n",
      "400/400 [==============================] - 58s 146ms/step - loss: 0.0701 - acc: 0.9767 - val_loss: 1.0260 - val_acc: 0.8300\n",
      "Epoch 21/30\n",
      "400/400 [==============================] - 59s 148ms/step - loss: 0.0719 - acc: 0.9784 - val_loss: 1.0654 - val_acc: 0.8272\n",
      "Epoch 22/30\n",
      "400/400 [==============================] - 58s 146ms/step - loss: 0.0888 - acc: 0.9712 - val_loss: 1.0321 - val_acc: 0.8272\n",
      "Epoch 23/30\n",
      "400/400 [==============================] - 59s 147ms/step - loss: 0.0790 - acc: 0.9767 - val_loss: 0.9972 - val_acc: 0.8238\n",
      "Epoch 24/30\n",
      "400/400 [==============================] - 58s 145ms/step - loss: 0.0781 - acc: 0.9742 - val_loss: 1.0467 - val_acc: 0.8283\n",
      "Epoch 25/30\n",
      "400/400 [==============================] - 59s 147ms/step - loss: 0.0686 - acc: 0.9774 - val_loss: 1.0794 - val_acc: 0.8272\n",
      "Epoch 26/30\n",
      "400/400 [==============================] - 58s 145ms/step - loss: 0.0688 - acc: 0.9790 - val_loss: 1.0333 - val_acc: 0.8305\n",
      "Epoch 27/30\n",
      "400/400 [==============================] - 60s 150ms/step - loss: 0.0665 - acc: 0.9790 - val_loss: 1.0602 - val_acc: 0.8283\n",
      "Epoch 28/30\n",
      "400/400 [==============================] - 59s 147ms/step - loss: 0.0635 - acc: 0.9790 - val_loss: 1.0635 - val_acc: 0.8221\n",
      "Epoch 29/30\n",
      "400/400 [==============================] - 59s 148ms/step - loss: 0.0571 - acc: 0.9835 - val_loss: 1.0376 - val_acc: 0.8289\n",
      "Epoch 30/30\n",
      "400/400 [==============================] - 59s 147ms/step - loss: 0.0631 - acc: 0.9795 - val_loss: 1.1038 - val_acc: 0.8249\n"
     ]
    }
   ],
   "source": [
    "model.compile(loss='categorical_crossentropy',\n",
    "              optimizer=optimizers.Adam(lr=1e-5),\n",
    "              metrics=['acc'])\n",
    "\n",
    "history = model.fit_generator(\n",
    "      train_generator,\n",
    "      steps_per_epoch=400,\n",
    "      epochs=30,\n",
    "      validation_data=validation_generator,\n",
    "      validation_steps=80)"
   ]
  },
  {
   "cell_type": "code",
   "execution_count": 39,
   "metadata": {},
   "outputs": [],
   "source": [
    "model.save('caltech101_4.h5')"
   ]
  },
  {
   "cell_type": "code",
   "execution_count": 40,
   "metadata": {},
   "outputs": [
    {
     "data": {
      "image/png": "[encoded data removed]",
      "text/plain": [
       "<Figure size 432x288 with 1 Axes>"
      ]
     },
     "metadata": {},
     "output_type": "display_data"
    },
    {
     "data": {
      "image/png": "[encoded data removed]",
      "text/plain": [
       "<Figure size 432x288 with 1 Axes>"
      ]
     },
     "metadata": {},
     "output_type": "display_data"
    }
   ],
   "source": [
    "acc = history.history['acc']\n",
    "val_acc = history.history['val_acc']\n",
    "loss = history.history['loss']\n",
    "val_loss = history.history['val_loss']\n",
    "\n",
    "epochs = range(len(acc))\n",
    "\n",
    "plt.plot(epochs, acc, 'bo', label='Training acc')\n",
    "plt.plot(epochs, val_acc, 'b', label='Validation acc')\n",
    "plt.title('Training and validation accuracy')\n",
    "plt.legend()\n",
    "\n",
    "plt.figure()\n",
    "\n",
    "plt.plot(epochs, loss, 'bo', label='Training loss')\n",
    "plt.plot(epochs, val_loss, 'b', label='Validation loss')\n",
    "plt.title('Training and validation loss')\n",
    "plt.legend()\n",
    "\n",
    "plt.show()"
   ]
  },
  {
   "cell_type": "markdown",
   "metadata": {},
   "source": [
    "This is better than before, almost 82%. Gained approximately 5% accuracy on validation set."
   ]
  },
  {
   "cell_type": "markdown",
   "metadata": {},
   "source": [
    "Smooth the lines above by _replacing every loss and accuracy with exponential moving averages of these quantities_[see original notebook for more info]."
   ]
  },
  {
   "cell_type": "code",
   "execution_count": 41,
   "metadata": {},
   "outputs": [
    {
     "data": {
      "image/png": "[encoded data removed]",
      "text/plain": [
       "<Figure size 432x288 with 1 Axes>"
      ]
     },
     "metadata": {},
     "output_type": "display_data"
    },
    {
     "data": {
      "image/png": "[encoded data removed]",
      "text/plain": [
       "<Figure size 432x288 with 1 Axes>"
      ]
     },
     "metadata": {},
     "output_type": "display_data"
    }
   ],
   "source": [
    "def smooth_curve(points, factor=0.8):\n",
    "  smoothed_points = []\n",
    "  for point in points:\n",
    "    if smoothed_points:\n",
    "      previous = smoothed_points[-1]\n",
    "      smoothed_points.append(previous * factor + point * (1 - factor))\n",
    "    else:\n",
    "      smoothed_points.append(point)\n",
    "  return smoothed_points\n",
    "\n",
    "plt.plot(epochs,\n",
    "         smooth_curve(acc), 'bo', label='Smoothed training acc')\n",
    "plt.plot(epochs,\n",
    "         smooth_curve(val_acc), 'b', label='Smoothed validation acc')\n",
    "plt.title('Training and validation accuracy')\n",
    "plt.legend()\n",
    "\n",
    "plt.figure()\n",
    "\n",
    "plt.plot(epochs,\n",
    "         smooth_curve(loss), 'bo', label='Smoothed training loss')\n",
    "plt.plot(epochs,\n",
    "         smooth_curve(val_loss), 'b', label='Smoothed validation loss')\n",
    "plt.title('Training and validation loss')\n",
    "plt.legend()\n",
    "\n",
    "plt.show()"
   ]
  },
  {
   "cell_type": "code",
   "execution_count": 42,
   "metadata": {},
   "outputs": [
    {
     "name": "stdout",
     "output_type": "stream",
     "text": [
      "Found 1003 images belonging to 102 classes.\n",
      "test acc: 0.8350000023841858\n"
     ]
    }
   ],
   "source": [
    "test_generator = test_datagen.flow_from_directory(\n",
    "        test_dir,\n",
    "        target_size=(150, 150),\n",
    "        batch_size=20,\n",
    "        class_mode='categorical')\n",
    "\n",
    "test_loss, test_acc = model.evaluate_generator(test_generator, steps=50)\n",
    "print('test acc:', test_acc)"
   ]
  },
  {
   "cell_type": "markdown",
   "metadata": {},
   "source": [
    "83.5% accuracy on the test data. Not bad for such a small dataset. But for better results we need more data."
   ]
  },
  {
   "cell_type": "code",
   "execution_count": null,
   "metadata": {},
   "outputs": [],
   "source": []
  }
 ],
 "metadata": {
  "kernelspec": {
   "display_name": "Python 3",
   "language": "python",
   "name": "python3"
  },
  "language_info": {
   "codemirror_mode": {
    "name": "ipython",
    "version": 3
   },
   "file_extension": ".py",
   "mimetype": "text/x-python",
   "name": "python",
   "nbconvert_exporter": "python",
   "pygments_lexer": "ipython3",
   "version": "3.6.6"
  }
 },
 "nbformat": 4,
 "nbformat_minor": 2
}
